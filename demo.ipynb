{
 "cells": [
  {
   "cell_type": "code",
   "execution_count": 1,
   "metadata": {},
   "outputs": [
    {
     "name": "stdout",
     "output_type": "stream",
     "text": [
      "fatal: destination path 'pwesuite' already exists and is not an empty directory.\n",
      "Obtaining file:///home/vilda/pwesuite/pwesuite\n",
      "  Preparing metadata (setup.py) ... \u001b[?25ldone\n",
      "\u001b[?25hRequirement already satisfied: panphon2>=0.3 in /home/vilda/miniconda3/lib/python3.11/site-packages (from PWESuite==0.0.1) (0.3.2)\n",
      "Requirement already satisfied: numpy>=1.21 in /home/vilda/miniconda3/lib/python3.11/site-packages (from PWESuite==0.0.1) (1.26.4)\n",
      "Requirement already satisfied: transformers>=4.22 in /home/vilda/miniconda3/lib/python3.11/site-packages (from PWESuite==0.0.1) (4.44.2)\n",
      "Requirement already satisfied: wandb>=0.13 in /home/vilda/miniconda3/lib/python3.11/site-packages (from PWESuite==0.0.1) (0.16.2)\n",
      "Requirement already satisfied: panphon>=0.20 in /home/vilda/miniconda3/lib/python3.11/site-packages (from PWESuite==0.0.1) (0.20.0)\n",
      "Requirement already satisfied: epitran>=1.20 in /home/vilda/miniconda3/lib/python3.11/site-packages (from PWESuite==0.0.1) (1.24)\n",
      "Requirement already satisfied: tqdm>=4.64 in /home/vilda/miniconda3/lib/python3.11/site-packages (from PWESuite==0.0.1) (4.66.5)\n",
      "Requirement already satisfied: scikit-learn>=1.1 in /home/vilda/miniconda3/lib/python3.11/site-packages (from PWESuite==0.0.1) (1.4.2)\n",
      "Requirement already satisfied: scipy>=1.7 in /home/vilda/.local/lib/python3.11/site-packages (from PWESuite==0.0.1) (1.10.1)\n",
      "Requirement already satisfied: emoji>=2.2 in /home/vilda/miniconda3/lib/python3.11/site-packages (from PWESuite==0.0.1) (2.9.0)\n",
      "Requirement already satisfied: Levenshtein>=0.20.9 in /home/vilda/miniconda3/lib/python3.11/site-packages (from PWESuite==0.0.1) (0.23.0)\n",
      "Requirement already satisfied: multiprocess>=0.70 in /home/vilda/miniconda3/lib/python3.11/site-packages (from PWESuite==0.0.1) (0.70.15)\n",
      "Requirement already satisfied: setuptools in /home/vilda/miniconda3/lib/python3.11/site-packages (from epitran>=1.20->PWESuite==0.0.1) (75.1.0)\n",
      "Requirement already satisfied: regex in /home/vilda/miniconda3/lib/python3.11/site-packages (from epitran>=1.20->PWESuite==0.0.1) (2023.10.3)\n",
      "Requirement already satisfied: marisa-trie in /home/vilda/miniconda3/lib/python3.11/site-packages (from epitran>=1.20->PWESuite==0.0.1) (1.1.0)\n",
      "Requirement already satisfied: requests in /home/vilda/miniconda3/lib/python3.11/site-packages (from epitran>=1.20->PWESuite==0.0.1) (2.32.3)\n",
      "Requirement already satisfied: rapidfuzz<4.0.0,>=3.1.0 in /home/vilda/miniconda3/lib/python3.11/site-packages (from Levenshtein>=0.20.9->PWESuite==0.0.1) (3.6.1)\n",
      "Requirement already satisfied: dill>=0.3.7 in /home/vilda/miniconda3/lib/python3.11/site-packages (from multiprocess>=0.70->PWESuite==0.0.1) (0.3.7)\n",
      "Requirement already satisfied: unicodecsv in /home/vilda/miniconda3/lib/python3.11/site-packages (from panphon>=0.20->PWESuite==0.0.1) (0.14.1)\n",
      "Requirement already satisfied: PyYAML in /home/vilda/miniconda3/lib/python3.11/site-packages (from panphon>=0.20->PWESuite==0.0.1) (6.0.1)\n",
      "Requirement already satisfied: editdistance in /home/vilda/miniconda3/lib/python3.11/site-packages (from panphon>=0.20->PWESuite==0.0.1) (0.6.2)\n",
      "Requirement already satisfied: munkres in /home/vilda/miniconda3/lib/python3.11/site-packages (from panphon>=0.20->PWESuite==0.0.1) (1.1.4)\n",
      "Requirement already satisfied: joblib>=1.2.0 in /home/vilda/miniconda3/lib/python3.11/site-packages (from scikit-learn>=1.1->PWESuite==0.0.1) (1.3.2)\n",
      "Requirement already satisfied: threadpoolctl>=2.0.0 in /home/vilda/.local/lib/python3.11/site-packages (from scikit-learn>=1.1->PWESuite==0.0.1) (3.1.0)\n",
      "Requirement already satisfied: filelock in /home/vilda/miniconda3/lib/python3.11/site-packages (from transformers>=4.22->PWESuite==0.0.1) (3.16.1)\n",
      "Requirement already satisfied: huggingface-hub<1.0,>=0.23.2 in /home/vilda/miniconda3/lib/python3.11/site-packages (from transformers>=4.22->PWESuite==0.0.1) (0.24.6)\n",
      "Requirement already satisfied: packaging>=20.0 in /home/vilda/miniconda3/lib/python3.11/site-packages (from transformers>=4.22->PWESuite==0.0.1) (21.3)\n",
      "Requirement already satisfied: safetensors>=0.4.1 in /home/vilda/miniconda3/lib/python3.11/site-packages (from transformers>=4.22->PWESuite==0.0.1) (0.4.3)\n",
      "Requirement already satisfied: tokenizers<0.20,>=0.19 in /home/vilda/miniconda3/lib/python3.11/site-packages (from transformers>=4.22->PWESuite==0.0.1) (0.19.1)\n",
      "Requirement already satisfied: Click!=8.0.0,>=7.1 in /home/vilda/miniconda3/lib/python3.11/site-packages (from wandb>=0.13->PWESuite==0.0.1) (8.1.7)\n",
      "Requirement already satisfied: GitPython!=3.1.29,>=1.0.0 in /home/vilda/miniconda3/lib/python3.11/site-packages (from wandb>=0.13->PWESuite==0.0.1) (3.1.41)\n",
      "Requirement already satisfied: psutil>=5.0.0 in /home/vilda/.local/lib/python3.11/site-packages (from wandb>=0.13->PWESuite==0.0.1) (5.9.6)\n",
      "Requirement already satisfied: sentry-sdk>=1.0.0 in /home/vilda/miniconda3/lib/python3.11/site-packages (from wandb>=0.13->PWESuite==0.0.1) (1.39.2)\n",
      "Requirement already satisfied: docker-pycreds>=0.4.0 in /home/vilda/miniconda3/lib/python3.11/site-packages (from wandb>=0.13->PWESuite==0.0.1) (0.4.0)\n",
      "Requirement already satisfied: setproctitle in /home/vilda/miniconda3/lib/python3.11/site-packages (from wandb>=0.13->PWESuite==0.0.1) (1.3.3)\n",
      "Requirement already satisfied: appdirs>=1.4.3 in /home/vilda/miniconda3/lib/python3.11/site-packages (from wandb>=0.13->PWESuite==0.0.1) (1.4.4)\n",
      "Requirement already satisfied: protobuf!=4.21.0,<5,>=3.19.0 in /home/vilda/miniconda3/lib/python3.11/site-packages (from wandb>=0.13->PWESuite==0.0.1) (4.25.3)\n",
      "Requirement already satisfied: six>=1.4.0 in /home/vilda/.local/lib/python3.11/site-packages (from docker-pycreds>=0.4.0->wandb>=0.13->PWESuite==0.0.1) (1.16.0)\n",
      "Requirement already satisfied: gitdb<5,>=4.0.1 in /home/vilda/miniconda3/lib/python3.11/site-packages (from GitPython!=3.1.29,>=1.0.0->wandb>=0.13->PWESuite==0.0.1) (4.0.11)\n",
      "Requirement already satisfied: fsspec>=2023.5.0 in /home/vilda/.local/lib/python3.11/site-packages (from huggingface-hub<1.0,>=0.23.2->transformers>=4.22->PWESuite==0.0.1) (2023.5.0)\n",
      "Requirement already satisfied: typing-extensions>=3.7.4.3 in /home/vilda/miniconda3/lib/python3.11/site-packages (from huggingface-hub<1.0,>=0.23.2->transformers>=4.22->PWESuite==0.0.1) (4.11.0)\n",
      "Requirement already satisfied: pyparsing!=3.0.5,>=2.0.2 in /home/vilda/miniconda3/lib/python3.11/site-packages (from packaging>=20.0->transformers>=4.22->PWESuite==0.0.1) (3.1.1)\n",
      "Requirement already satisfied: charset-normalizer<4,>=2 in /home/vilda/miniconda3/lib/python3.11/site-packages (from requests->epitran>=1.20->PWESuite==0.0.1) (3.3.2)\n",
      "Requirement already satisfied: idna<4,>=2.5 in /home/vilda/miniconda3/lib/python3.11/site-packages (from requests->epitran>=1.20->PWESuite==0.0.1) (3.7)\n",
      "Requirement already satisfied: urllib3<3,>=1.21.1 in /home/vilda/miniconda3/lib/python3.11/site-packages (from requests->epitran>=1.20->PWESuite==0.0.1) (2.2.3)\n",
      "Requirement already satisfied: certifi>=2017.4.17 in /home/vilda/miniconda3/lib/python3.11/site-packages (from requests->epitran>=1.20->PWESuite==0.0.1) (2024.8.30)\n",
      "Requirement already satisfied: smmap<6,>=3.0.1 in /home/vilda/miniconda3/lib/python3.11/site-packages (from gitdb<5,>=4.0.1->GitPython!=3.1.29,>=1.0.0->wandb>=0.13->PWESuite==0.0.1) (5.0.1)\n",
      "Installing collected packages: PWESuite\n",
      "  Attempting uninstall: PWESuite\n",
      "    Found existing installation: PWESuite 0.0.1\n",
      "    Uninstalling PWESuite-0.0.1:\n",
      "      Successfully uninstalled PWESuite-0.0.1\n",
      "\u001b[33m  DEPRECATION: Legacy editable install of PWESuite==0.0.1 from file:///home/vilda/pwesuite/pwesuite (setup.py develop) is deprecated. pip 25.0 will enforce this behaviour change. A possible replacement is to add a pyproject.toml or enable --use-pep517, and use setuptools >= 64. If the resulting installation is not behaving as expected, try using --config-settings editable_mode=compat. Please consult the setuptools documentation for more information. Discussion can be found at https://github.com/pypa/pip/issues/11457\u001b[0m\u001b[33m\n",
      "\u001b[0m  Running setup.py develop for PWESuite\n",
      "Successfully installed PWESuite-0.0.1\n",
      "/home/vilda/pwesuite/pwesuite\n"
     ]
    }
   ],
   "source": [
    "!git clone https://github.com/zouharvi/pwesuite.git\n",
    "!pip3 install -e pwesuite\n",
    "%cd pwesuite"
   ]
  },
  {
   "cell_type": "code",
   "execution_count": 2,
   "metadata": {},
   "outputs": [
    {
     "data": {
      "application/vnd.jupyter.widget-view+json": {
       "model_id": "9328392824894407800eacf5afcdc3be",
       "version_major": 2,
       "version_minor": 0
      },
      "text/plain": [
       "Downloading readme:   0%|          | 0.00/3.27k [00:00<?, ?B/s]"
      ]
     },
     "metadata": {},
     "output_type": "display_data"
    },
    {
     "data": {
      "application/vnd.jupyter.widget-view+json": {
       "model_id": "b156eeef32c6441ab9a675a2ac04115e",
       "version_major": 2,
       "version_minor": 0
      },
      "text/plain": [
       "Downloading data:   0%|          | 0.00/268M [00:00<?, ?B/s]"
      ]
     },
     "metadata": {},
     "output_type": "display_data"
    },
    {
     "data": {
      "application/vnd.jupyter.widget-view+json": {
       "model_id": "c4309afeeb154fcc9a506e872b586b34",
       "version_major": 2,
       "version_minor": 0
      },
      "text/plain": [
       "Generating train split:   0%|          | 0/1738496 [00:00<?, ? examples/s]"
      ]
     },
     "metadata": {},
     "output_type": "display_data"
    }
   ],
   "source": [
    "import datasets\n",
    "data = datasets.load_dataset(\"zouharvi/pwesuite-eval\", split=\"train\")"
   ]
  },
  {
   "cell_type": "code",
   "execution_count": 3,
   "metadata": {},
   "outputs": [],
   "source": [
    "from sklearn.feature_extraction.text import CountVectorizer\n",
    "\n",
    "model = CountVectorizer(max_features=256, analyzer=\"char\", ngram_range=(1, 2))\n",
    "embd = model.fit_transform([x[\"token_ipa\"] for x in data])"
   ]
  },
  {
   "cell_type": "code",
   "execution_count": 4,
   "metadata": {},
   "outputs": [
    {
     "data": {
      "text/plain": [
       "array(['a', 'ab', 'ad', 'ai', 'aj', 'ak', 'al', 'am', 'an', 'ap', 'ar',\n",
       "       'as', 'at', 'aw', 'aɡ', 'aɪ', 'aɾ', 'aʀ', 'b', 'ba', 'be', 'bi',\n",
       "       'bə', 'c', 'd', 'da', 'de', 'di', 'do', 'də', 'd̪', 'd͡', 'e',\n",
       "       'ek', 'el', 'em', 'en', 'er', 'es', 'et', 'eɾ', 'eː', 'e̯', 'f',\n",
       "       'fa', 'fi', 'fə', 'h', 'ha', 'i', 'ia', 'ib', 'id', 'ij', 'ik',\n",
       "       'il', 'im', 'in', 'ir', 'is', 'it', 'iz', 'iŋ', 'iɡ', 'iʃ', 'iː',\n",
       "       'j', 'ja', 'jo', 'jɔ', 'jə', 'jɛ', 'k', 'ka', 'ke', 'ki', 'ko',\n",
       "       'ks', 'kt', 'ku', 'kɔ', 'kə', 'kʼ', 'l', 'la', 'le', 'li', 'lo',\n",
       "       'lə', 'l̪', 'm', 'ma', 'me', 'mi', 'mo', 'mu', 'mɔ', 'mə', 'n',\n",
       "       'na', 'nd', 'ne', 'ni', 'ns', 'nt', 'nə', 'nɡ', 'nɨ', 'n̪', 'o',\n",
       "       'ol', 'on', 'os', 'ot', 'oː', 'p', 'pa', 'pi', 'pɔ', 'q', 'r',\n",
       "       'ra', 'ri', 'rɔ', 'rɨ', 's', 'sa', 'se', 'si', 'sj', 'sk', 'sp',\n",
       "       'st', 'su', 'sə', 'sɨ', 's̪', 't', 'ta', 'te', 'ti', 'to', 'tu',\n",
       "       'tɔ', 'tə', 'tɛ', 'tɨ', 'tʀ', 'tʂ', 'tʼ', 't̪', 't͡', 'u', 'ul',\n",
       "       'um', 'un', 'ur', 'us', 'ut', 'uː', 'v', 'va', 'vi', 'w', 'wa',\n",
       "       'x', 'y', 'z', 'za', 'zi', 'æ', 'ŋ', 'ŋk', 'ɑ', 'ɑː', 'ɑ̃', 'ɒ',\n",
       "       'ɓ', 'ɔ', 'ɔd', 'ɔk', 'ɔl', 'ɔm', 'ɔn', 'ɔr', 'ɔs', 'ɔt', 'ɔv',\n",
       "       'ɔʀ', 'ɔ̃', 'ɕ', 'ə', 'əb', 'ək', 'əl', 'əm', 'ən', 'ər', 'əs',\n",
       "       'ət', 'əw', 'əʀ', 'ɛ', 'ɛk', 'ɛl', 'ɛs', 'ɛ̃', 'ɡ', 'ɡa', 'ɡə',\n",
       "       'ɨ', 'ɨm', 'ɨn', 'ɨt', 'ɪ', 'ɪn', 'ɲ', 'ɸ', 'ɾ', 'ɾa', 'ɾe', 'ɾi',\n",
       "       'ʀ', 'ʀa', 'ʀt', 'ʂ', 'ʃ', 'ʃa', 'ʃi', 'ʃə', 'ʊ', 'ʑ', 'ʒ', 'ʰ',\n",
       "       'ʼ', 'ʼə', 'ː', 'ːl', 'ːn', 'ːs', 'ːt', 'ːʀ', '̃', '̤', '̪', '̪a',\n",
       "       '̪e', '̪i', '̪ɔ', '̯', '͡', '͡s', '͡z', '͡ɕ', '͡ʃ', '͡ʑ'],\n",
       "      dtype=object)"
      ]
     },
     "execution_count": 4,
     "metadata": {},
     "output_type": "execute_result"
    }
   ],
   "source": [
    "model.get_feature_names_out()"
   ]
  },
  {
   "cell_type": "code",
   "execution_count": 5,
   "metadata": {},
   "outputs": [
    {
     "data": {
      "text/plain": [
       "(1738496, 256)"
      ]
     },
     "execution_count": 5,
     "metadata": {},
     "output_type": "execute_result"
    }
   ],
   "source": [
    "embd.shape"
   ]
  },
  {
   "cell_type": "code",
   "execution_count": 6,
   "metadata": {},
   "outputs": [],
   "source": [
    "import numpy as np\n",
    "np.save(\"embd\", embd.toarray())"
   ]
  },
  {
   "cell_type": "code",
   "execution_count": 1,
   "metadata": {},
   "outputs": [
    {
     "name": "stdout",
     "output_type": "stream",
     "text": [
      "Loading multi data\n",
      "Downloading readme: 100%|██████████████████| 3.27k/3.27k [00:00<00:00, 38.2MB/s]\n",
      "Downloading data: 100%|██████████████████████| 268M/268M [00:02<00:00, 98.6MB/s]\n",
      "Generating train split: 100%|█| 1738496/1738496 [00:00<00:00, 4491331.95 example\n",
      "Human similarity\n",
      "Correlations\n",
      "100%|█████████████████████████████████████████████| 9/9 [00:58<00:00,  6.55s/it]\n",
      "Retrieval\n",
      "100%|█████████████████████████████████████████████| 9/9 [00:52<00:00,  5.84s/it]\n",
      "Sound analogies\n",
      "Loading analogies data\n",
      "Loading analogies data\n",
      "Loading analogies data\n",
      "Loading analogies data\n",
      "Loading analogies data\n",
      "Loading analogies data\n",
      "Loading analogies data\n",
      "Loading analogies data\n",
      "Loading analogies data\n",
      "Rhyme\n",
      "100%|██████████████████████████████| 124988/124988 [00:00<00:00, 1431604.09it/s]\n",
      "Cognate\n",
      "Loading cognates data\n",
      "/home/vilda/miniconda3/lib/python3.11/site-packages/sklearn/neural_network/_multilayer_perceptron.py:691: ConvergenceWarning: Stochastic Optimizer: Maximum iterations (200) reached and the optimization hasn't converged yet.\n",
      "  warnings.warn(\n",
      "human_similarity: 0.8118\n",
      "correlation: 0.5086\n",
      "retrieval: 0.8509\n",
      "analogy: 0.0128\n",
      "rhyme: 0.8344\n",
      "cognate: 0.6540\n",
      "overall: 0.6121\n",
      "JSON1!{\"human_similarity\": 0.8117730738734554, \"correlation\": 0.5085955279191158, \"retrieval\": 0.8509263333333333, \"analogy\": 0.012777777777777779, \"rhyme\": 0.8343949044585988, \"cognate\": 0.654015401540154, \"overall\": 0.6120805031504059}\n",
      "Score (overall): 0.6121\n"
     ]
    }
   ],
   "source": [
    "!python3 ./suite_evaluation/eval_all.py --embd embd.npy"
   ]
  }
 ],
 "metadata": {
  "kernelspec": {
   "display_name": "Python 3",
   "language": "python",
   "name": "python3"
  },
  "language_info": {
   "codemirror_mode": {
    "name": "ipython",
    "version": 3
   },
   "file_extension": ".py",
   "mimetype": "text/x-python",
   "name": "python",
   "nbconvert_exporter": "python",
   "pygments_lexer": "ipython3",
   "version": "3.11.9"
  }
 },
 "nbformat": 4,
 "nbformat_minor": 2
}
